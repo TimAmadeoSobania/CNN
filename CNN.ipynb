{
 "cells": [
  {
   "cell_type": "markdown",
   "metadata": {},
   "source": [
    "## This is a small project in whick I will build a CNN"
   ]
  },
  {
   "cell_type": "code",
   "execution_count": 122,
   "metadata": {},
   "outputs": [],
   "source": [
    "import numpy as np\n",
    "import pandas as pd\n",
    "import matplotlib.pyplot as plt\n",
    "import plotly.express as px\n",
    "import random\n",
    "\n",
    "# Tensorflow and keras for the NN\n",
    "import tensorflow as tf\n",
    "from tensorflow.keras.models import Sequential\n",
    "from tensorflow.keras.layers import Dense, Activation, Flatten, Conv2D, MaxPooling2D, ZeroPadding2D, Input, BatchNormalization\n",
    "from tensorflow.keras import optimizers\n",
    "\n",
    "print(tf.__version__)"
   ]
  },
  {
   "cell_type": "code",
   "execution_count": 111,
   "metadata": {},
   "outputs": [],
   "source": [
    "def create_img():\n",
    "    \"\"\"\n",
    "    desciption: This creates a white greyscale image (128x128) and places a black rectangle somewhere randomly.\n",
    "    returns:    Tupel of 1.: the image and 2.: the position and dimensions of the rectangle.\n",
    "    \"\"\"\n",
    "    #create a image (128x128)in grayscale with a white background (255)\n",
    "    img = [[255 for i in range(128)]for j in range(128)]\n",
    "\n",
    "    #create a rectangle with random height, width and position\n",
    "    rect_height = random.randint(2,50)\n",
    "    rect_width = random.randint(2,50)\n",
    "    rect =  {\n",
    "        'height': rect_height,\n",
    "        'width': rect_width,\n",
    "        'x':random.randint(rect_width, 128-rect_width),\n",
    "        'y': random.randint(rect_height, 128-rect_height)\n",
    "        }\n",
    "\n",
    "    #draw rectangle in image\n",
    "    for i,x in enumerate(img):\n",
    "        for j,y in enumerate(x):\n",
    "            if i > rect['x'] - rect['width']//2 and i < rect['x'] + rect['width']//2 and j > rect['y'] - rect['height']//2 and j < rect['y'] + rect['height']//2:\n",
    "                img[i][j] = 0\n",
    "    img = np.asarray(img).transpose()\n",
    "\n",
    "    return (img, rect)\n",
    "\n",
    "def print_img(images, img):\n",
    "    plt.imshow(images[img][0], cmap='gray')\n",
    "    print(images[img][1])"
   ]
  },
  {
   "cell_type": "markdown",
   "metadata": {},
   "source": [
    "### Create 10,000 images"
   ]
  },
  {
   "cell_type": "code",
   "execution_count": 116,
   "metadata": {},
   "outputs": [],
   "source": [
    "images = []\n",
    "for i in range (10000):\n",
    "    images.append(create_img())"
   ]
  },
  {
   "cell_type": "code",
   "execution_count": 121,
   "metadata": {},
   "outputs": [
    {
     "name": "stdout",
     "output_type": "stream",
     "text": [
      "{'height': 35, 'width': 38, 'x': 89, 'y': 88}\n"
     ]
    },
    {
     "data": {
      "image/png": "[encoded data removed]",
      "text/plain": [
       "<Figure size 432x288 with 1 Axes>"
      ]
     },
     "metadata": {
      "needs_background": "light"
     },
     "output_type": "display_data"
    }
   ],
   "source": [
    "print_img(images, 9999)"
   ]
  },
  {
   "cell_type": "markdown",
   "metadata": {},
   "source": [
    "### Train the CNN"
   ]
  },
  {
   "cell_type": "code",
   "execution_count": 172,
   "metadata": {},
   "outputs": [],
   "source": [
    "#split the data into training and test\n",
    "from sklearn.model_selection import train_test_split\n",
    "\n",
    "x_train, x_test, y_train, y_test = train_test_split([i[0] for i in images], [list((i[1].values())) for i in images], test_size=0.25)"
   ]
  },
  {
   "cell_type": "code",
   "execution_count": 181,
   "metadata": {},
   "outputs": [],
   "source": [
    "x_train = np.asarray(x_train).reshape(len(x_train),x_train[0].shape[0],x_train[0].shape[0],1)\n",
    "x_test = np.asarray(x_test).reshape(len(x_test),x_test[0].shape[0],x_test[0].shape[0],1)\n",
    "y_train = np.asarray(y_train)\n",
    "y_test = np.asarray(y_test)"
   ]
  },
  {
   "cell_type": "code",
   "execution_count": 183,
   "metadata": {},
   "outputs": [
    {
     "name": "stdout",
     "output_type": "stream",
     "text": [
      "Model: \"sequential_11\"\n",
      "_________________________________________________________________\n",
      "Layer (type)                 Output Shape              Param #   \n",
      "=================================================================\n",
      "conv2d_18 (Conv2D)           (None, 126, 126, 64)      640       \n",
      "_________________________________________________________________\n",
      "activation_22 (Activation)   (None, 126, 126, 64)      0         \n",
      "_________________________________________________________________\n",
      "max_pooling2d_15 (MaxPooling (None, 63, 63, 64)        0         \n",
      "_________________________________________________________________\n",
      "conv2d_19 (Conv2D)           (None, 61, 61, 64)        36928     \n",
      "_________________________________________________________________\n",
      "activation_23 (Activation)   (None, 61, 61, 64)        0         \n",
      "_________________________________________________________________\n",
      "zero_padding2d_7 (ZeroPaddin (None, 63, 63, 64)        0         \n",
      "_________________________________________________________________\n",
      "max_pooling2d_16 (MaxPooling (None, 31, 31, 64)        0         \n",
      "_________________________________________________________________\n",
      "flatten_7 (Flatten)          (None, 61504)             0         \n",
      "_________________________________________________________________\n",
      "dense_14 (Dense)             (None, 64)                3936320   \n",
      "_________________________________________________________________\n",
      "dense_15 (Dense)             (None, 4)                 260       \n",
      "_________________________________________________________________\n",
      "activation_24 (Activation)   (None, 4)                 0         \n",
      "=================================================================\n",
      "Total params: 3,974,148\n",
      "Trainable params: 3,974,148\n",
      "Non-trainable params: 0\n",
      "_________________________________________________________________\n",
      "Epoch 1/2\n",
      "59/59 [==============================] - 107s 2s/step - loss: 139094.2969 - mse: 139094.2969 - val_loss: 2727.8584 - val_mse: 2727.8584\n",
      "Epoch 2/2\n",
      "59/59 [==============================] - 107s 2s/step - loss: 3049.7505 - mse: 3049.7505 - val_loss: 2629.2986 - val_mse: 2629.2986\n"
     ]
    }
   ],
   "source": [
    "model = Sequential()\n",
    "\n",
    "model.add(Conv2D(64, (3,3), input_shape=(x_train[0].shape[0], x_train[0].shape[1], 1)))\n",
    "model.add(Activation(\"relu\"))\n",
    "model.add(MaxPooling2D(pool_size=(2,2)))\n",
    "\n",
    "model.add(Conv2D(64, (3,3)))\n",
    "model.add(Activation(\"relu\"))\n",
    "model.add(ZeroPadding2D(padding=(1,1)))\n",
    "model.add(MaxPooling2D(pool_size=(2,2)))\n",
    "\n",
    "model.add(Flatten())\n",
    "model.add(Dense(64))\n",
    "\n",
    "model.add(Dense(y_train[0].shape[0]))\n",
    "model.add(Activation(\"relu\"))\n",
    "\n",
    "optimizer = optimizers.Adam()\n",
    "model.compile(loss='mean_squared_error',\n",
    "             optimizer=optimizer,\n",
    "             metrics=['mse'])\n",
    "\n",
    "model.summary()\n",
    "history = model.fit(x_train, y_train, batch_size=128, epochs=2, validation_data=(x_test, y_test))"
   ]
  },
  {
   "cell_type": "code",
   "execution_count": 184,
   "metadata": {},
   "outputs": [
    {
     "name": "stdout",
     "output_type": "stream",
     "text": [
      "Predicted values of some random datapoints:\n",
      "[11.29169  0.       0.       0.     ]\n",
      "[12.216062  0.        0.        0.      ]\n",
      "[0.3982693  0.07860021 0.         0.        ]\n",
      "[11.49628  0.       0.       0.     ]\n",
      "[11.7548065  0.         0.         0.       ]\n",
      "[ 1.9108583 31.990421   0.         0.       ]\n",
      "And the true Values at those points:\n",
      "[29 25 77 46]\n",
      "[36 15 32 56]\n",
      "[15  6 26 91]\n",
      "[23 18 45 78]\n",
      "[36 28 59 62]\n",
      "[  9  50  68 115]\n"
     ]
    }
   ],
   "source": [
    "predictions = model.predict(x_test)\n",
    "print(\"Predicted values of some random datapoints:\")\n",
    "print(predictions[0])\n",
    "print(predictions[1])\n",
    "print(predictions[50])\n",
    "print(predictions[51])\n",
    "print(predictions[199])\n",
    "print(predictions[200])\n",
    "\n",
    "print(\"And the true Values at those points:\")\n",
    "print(y_test[0])\n",
    "print(y_test[1])\n",
    "print(y_test[50])\n",
    "print(y_test[51])\n",
    "print(y_test[199])\n",
    "print(y_test[200])"
   ]
  },
  {
   "cell_type": "code",
   "execution_count": null,
   "metadata": {},
   "outputs": [],
   "source": []
  }
 ],
 "metadata": {
  "interpreter": {
   "hash": "31f2aee4e71d21fbe5cf8b01ff0e069b9275f58929596ceb00d14d90e3e16cd6"
  },
  "kernelspec": {
   "display_name": "Python 3.8.10 64-bit",
   "language": "python",
   "name": "python3"
  },
  "language_info": {
   "codemirror_mode": {
    "name": "ipython",
    "version": 3
   },
   "file_extension": ".py",
   "mimetype": "text/x-python",
   "name": "python",
   "nbconvert_exporter": "python",
   "pygments_lexer": "ipython3",
   "version": "3.8.10"
  },
  "orig_nbformat": 4
 },
 "nbformat": 4,
 "nbformat_minor": 2
}
